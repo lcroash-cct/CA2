{
 "cells": [
  {
   "cell_type": "markdown",
   "id": "fa5d55a1",
   "metadata": {},
   "source": [
    "This subject of this project is the housing crisis in Ireland.\n",
    "- Is this also seen in other European countries?\n",
    "- Are new housing projects building enough to meet current demand?"
   ]
  },
  {
   "cell_type": "code",
   "execution_count": 7,
   "id": "01813148",
   "metadata": {},
   "outputs": [],
   "source": [
    "import pandas as pd"
   ]
  },
  {
   "cell_type": "code",
   "execution_count": 18,
   "id": "2ee7415d",
   "metadata": {},
   "outputs": [],
   "source": [
    "import glob\n",
    "from copy import deepcopy"
   ]
  },
  {
   "cell_type": "markdown",
   "id": "aaf0c13a",
   "metadata": {},
   "source": [
    "# Data Ingestion"
   ]
  },
  {
   "cell_type": "markdown",
   "id": "a268f451",
   "metadata": {},
   "source": [
    "## IE Data First\n",
    "This will later be replaced by mongodb calls using json versions of this data."
   ]
  },
  {
   "cell_type": "code",
   "execution_count": 13,
   "id": "ee1b4438",
   "metadata": {},
   "outputs": [],
   "source": [
    "# https://data.gov.ie/dataset/ndq01-new-dwelling-completions/resource/8fdc8f87-88ca-43f7-aa16-dbc3a52cacde\n",
    "ie_ndq1_orig = pd.read_csv('./datasets/ie/NDQ01.csv')\n",
    "\n",
    "# https://data.gov.ie/dataset/ndq03-new-dwelling-completions/resource/45701f7f-1192-406f-980f-a8ee23862147\n",
    "ie_ndq3_orig = pd.read_csv('./datasets/ie/NDQ03.csv')\n",
    "\n",
    "# https://data.gov.ie/dataset/ndq05-new-dwelling-completion/resource/108d82d0-43f1-4574-9e47-bb54f078fd84\n",
    "ie_ndq5_orig = pd.read_csv('./datasets/ie/NDQ05.csv')\n",
    "\n",
    "# https://data.gov.ie/dataset/ndq06-new-dwelling-completion/resource/0b5041bb-9f52-4b54-8c8d-0000306e74e2\n",
    "ie_ndq6_orig = pd.read_csv('./datasets/ie/NDQ06.csv')\n",
    "\n",
    "# https://data.gov.ie/dataset/ndq07-new-dwelling-completion/resource/f9cf710c-b9cb-485f-b986-4b76cf6ef045\n",
    "ie_ndq7_orig = pd.read_csv('./datasets/ie/NDQ07.csv')"
   ]
  },
  {
   "cell_type": "markdown",
   "id": "a33597ed",
   "metadata": {},
   "source": [
    "# UK data"
   ]
  },
  {
   "cell_type": "code",
   "execution_count": 15,
   "id": "8afe5d0d",
   "metadata": {},
   "outputs": [],
   "source": [
    "# https://www.ons.gov.uk/businessindustryandtrade/constructionindustry/datasets/outputintheconstructionindustrysubnationalandsubsector\n",
    "uk_con_sub_nat_orig = pd.read_excel('./datasets/uk/bulletindataset6.xlsx')\n",
    "\n",
    "# https://www.ons.gov.uk/businessindustryandtrade/constructionindustry/datasets/outputintheconstructionindustryallworksummary\n",
    "uk_con_all_work_orig = pd.read_excel('./datasets/uk/bulletindataset1.xlsx')\n",
    "\n",
    "# https://www.ons.gov.uk/businessindustryandtrade/constructionindustry/datasets/outputintheconstructionindustry\n",
    "uk_con_output_orig = pd.read_excel('./datasets/uk/bulletindataset2.xlsx')"
   ]
  },
  {
   "cell_type": "markdown",
   "id": "faf11a9e",
   "metadata": {},
   "source": [
    "# EU data"
   ]
  },
  {
   "cell_type": "code",
   "execution_count": 16,
   "id": "b071ffbb",
   "metadata": {},
   "outputs": [],
   "source": [
    "# https://ec.europa.eu/eurostat/web/products-datasets/-/ei_bsbu_q_r2\n",
    "eu_con_qtr_orig = pd.read_csv('./datasets/eu/ei_bsbu_q_r2.tsv')\n",
    "\n",
    "# https://ec.europa.eu/eurostat/web/products-datasets/-/ei_isbu_q\n",
    "eu_con_qtr_index_orig = pd.read_csv('./datasets/eu/ei_isbu_q.tsv')\n",
    "\n",
    "# https://ec.europa.eu/eurostat/web/products-datasets/-/sts_copr_q\n",
    "eu_con_qtr_prod_orig = pd.read_csv('./datasets/eu/sts_copr_q.tsv')"
   ]
  },
  {
   "cell_type": "markdown",
   "id": "884c1003",
   "metadata": {},
   "source": [
    "# Data Cleansing & Preparation"
   ]
  },
  {
   "cell_type": "markdown",
   "id": "84a8019b",
   "metadata": {},
   "source": [
    "## IE Data"
   ]
  },
  {
   "cell_type": "code",
   "execution_count": 19,
   "id": "ce80b323",
   "metadata": {},
   "outputs": [],
   "source": [
    "ie_ndq1 = deepcopy(ie_ndq1_orig)"
   ]
  },
  {
   "cell_type": "code",
   "execution_count": 20,
   "id": "af22ec4d",
   "metadata": {},
   "outputs": [
    {
     "data": {
      "text/html": [
       "<div>\n",
       "<style scoped>\n",
       "    .dataframe tbody tr th:only-of-type {\n",
       "        vertical-align: middle;\n",
       "    }\n",
       "\n",
       "    .dataframe tbody tr th {\n",
       "        vertical-align: top;\n",
       "    }\n",
       "\n",
       "    .dataframe thead th {\n",
       "        text-align: right;\n",
       "    }\n",
       "</style>\n",
       "<table border=\"1\" class=\"dataframe\">\n",
       "  <thead>\n",
       "    <tr style=\"text-align: right;\">\n",
       "      <th></th>\n",
       "      <th>STATISTIC</th>\n",
       "      <th>STATISTIC Label</th>\n",
       "      <th>TLIST(Q1)</th>\n",
       "      <th>Quarter</th>\n",
       "      <th>C02342V02816</th>\n",
       "      <th>Type of House</th>\n",
       "      <th>UNIT</th>\n",
       "      <th>VALUE</th>\n",
       "    </tr>\n",
       "  </thead>\n",
       "  <tbody>\n",
       "    <tr>\n",
       "      <th>0</th>\n",
       "      <td>NDQ01</td>\n",
       "      <td>New Dwelling Completions</td>\n",
       "      <td>20111</td>\n",
       "      <td>2011Q1</td>\n",
       "      <td>06</td>\n",
       "      <td>Single house</td>\n",
       "      <td>Number</td>\n",
       "      <td>1156</td>\n",
       "    </tr>\n",
       "    <tr>\n",
       "      <th>1</th>\n",
       "      <td>NDQ01</td>\n",
       "      <td>New Dwelling Completions</td>\n",
       "      <td>20111</td>\n",
       "      <td>2011Q1</td>\n",
       "      <td>07</td>\n",
       "      <td>Scheme house</td>\n",
       "      <td>Number</td>\n",
       "      <td>447</td>\n",
       "    </tr>\n",
       "    <tr>\n",
       "      <th>2</th>\n",
       "      <td>NDQ01</td>\n",
       "      <td>New Dwelling Completions</td>\n",
       "      <td>20111</td>\n",
       "      <td>2011Q1</td>\n",
       "      <td>08</td>\n",
       "      <td>Apartment</td>\n",
       "      <td>Number</td>\n",
       "      <td>272</td>\n",
       "    </tr>\n",
       "    <tr>\n",
       "      <th>3</th>\n",
       "      <td>NDQ01</td>\n",
       "      <td>New Dwelling Completions</td>\n",
       "      <td>20111</td>\n",
       "      <td>2011Q1</td>\n",
       "      <td>-</td>\n",
       "      <td>All house types</td>\n",
       "      <td>Number</td>\n",
       "      <td>1875</td>\n",
       "    </tr>\n",
       "    <tr>\n",
       "      <th>4</th>\n",
       "      <td>NDQ01</td>\n",
       "      <td>New Dwelling Completions</td>\n",
       "      <td>20112</td>\n",
       "      <td>2011Q2</td>\n",
       "      <td>06</td>\n",
       "      <td>Single house</td>\n",
       "      <td>Number</td>\n",
       "      <td>1194</td>\n",
       "    </tr>\n",
       "  </tbody>\n",
       "</table>\n",
       "</div>"
      ],
      "text/plain": [
       "  STATISTIC           STATISTIC Label  TLIST(Q1) Quarter C02342V02816  \\\n",
       "0     NDQ01  New Dwelling Completions      20111  2011Q1           06   \n",
       "1     NDQ01  New Dwelling Completions      20111  2011Q1           07   \n",
       "2     NDQ01  New Dwelling Completions      20111  2011Q1           08   \n",
       "3     NDQ01  New Dwelling Completions      20111  2011Q1            -   \n",
       "4     NDQ01  New Dwelling Completions      20112  2011Q2           06   \n",
       "\n",
       "     Type of House    UNIT  VALUE  \n",
       "0     Single house  Number   1156  \n",
       "1     Scheme house  Number    447  \n",
       "2        Apartment  Number    272  \n",
       "3  All house types  Number   1875  \n",
       "4     Single house  Number   1194  "
      ]
     },
     "execution_count": 20,
     "metadata": {},
     "output_type": "execute_result"
    }
   ],
   "source": [
    "ie_ndq1.head()"
   ]
  },
  {
   "cell_type": "code",
   "execution_count": 21,
   "id": "298f2491",
   "metadata": {},
   "outputs": [
    {
     "name": "stdout",
     "output_type": "stream",
     "text": [
      "<class 'pandas.core.frame.DataFrame'>\n",
      "RangeIndex: 392 entries, 0 to 391\n",
      "Data columns (total 8 columns):\n",
      " #   Column           Non-Null Count  Dtype \n",
      "---  ------           --------------  ----- \n",
      " 0   STATISTIC        392 non-null    object\n",
      " 1   STATISTIC Label  392 non-null    object\n",
      " 2   TLIST(Q1)        392 non-null    int64 \n",
      " 3   Quarter          392 non-null    object\n",
      " 4   C02342V02816     392 non-null    object\n",
      " 5   Type of House    392 non-null    object\n",
      " 6   UNIT             392 non-null    object\n",
      " 7   VALUE            392 non-null    int64 \n",
      "dtypes: int64(2), object(6)\n",
      "memory usage: 24.6+ KB\n"
     ]
    }
   ],
   "source": [
    "ie_ndq1.info()"
   ]
  },
  {
   "cell_type": "code",
   "execution_count": 31,
   "id": "51bf568e",
   "metadata": {},
   "outputs": [
    {
     "data": {
      "text/html": [
       "<div>\n",
       "<style scoped>\n",
       "    .dataframe tbody tr th:only-of-type {\n",
       "        vertical-align: middle;\n",
       "    }\n",
       "\n",
       "    .dataframe tbody tr th {\n",
       "        vertical-align: top;\n",
       "    }\n",
       "\n",
       "    .dataframe thead th {\n",
       "        text-align: right;\n",
       "    }\n",
       "</style>\n",
       "<table border=\"1\" class=\"dataframe\">\n",
       "  <thead>\n",
       "    <tr style=\"text-align: right;\">\n",
       "      <th>C02342V02816</th>\n",
       "      <th>-</th>\n",
       "      <th>06</th>\n",
       "      <th>07</th>\n",
       "      <th>08</th>\n",
       "    </tr>\n",
       "    <tr>\n",
       "      <th>STATISTIC Label</th>\n",
       "      <th></th>\n",
       "      <th></th>\n",
       "      <th></th>\n",
       "      <th></th>\n",
       "    </tr>\n",
       "  </thead>\n",
       "  <tbody>\n",
       "    <tr>\n",
       "      <th>New Dwelling Completions</th>\n",
       "      <td>169997</td>\n",
       "      <td>51549</td>\n",
       "      <td>85622</td>\n",
       "      <td>32826</td>\n",
       "    </tr>\n",
       "    <tr>\n",
       "      <th>Seasonally Adjusted New Dwelling Completions</th>\n",
       "      <td>170251</td>\n",
       "      <td>51772</td>\n",
       "      <td>85695</td>\n",
       "      <td>32789</td>\n",
       "    </tr>\n",
       "  </tbody>\n",
       "</table>\n",
       "</div>"
      ],
      "text/plain": [
       "C02342V02816                                       -     06     07     08\n",
       "STATISTIC Label                                                          \n",
       "New Dwelling Completions                      169997  51549  85622  32826\n",
       "Seasonally Adjusted New Dwelling Completions  170251  51772  85695  32789"
      ]
     },
     "execution_count": 31,
     "metadata": {},
     "output_type": "execute_result"
    }
   ],
   "source": [
    "ie_ndq1.pivot_table(index='STATISTIC Label',  columns='C02342V02816', values='VALUE', aggfunc='sum')"
   ]
  },
  {
   "cell_type": "code",
   "execution_count": 33,
   "id": "bb2829a5",
   "metadata": {},
   "outputs": [
    {
     "data": {
      "text/html": [
       "<div>\n",
       "<style scoped>\n",
       "    .dataframe tbody tr th:only-of-type {\n",
       "        vertical-align: middle;\n",
       "    }\n",
       "\n",
       "    .dataframe tbody tr th {\n",
       "        vertical-align: top;\n",
       "    }\n",
       "\n",
       "    .dataframe thead th {\n",
       "        text-align: right;\n",
       "    }\n",
       "</style>\n",
       "<table border=\"1\" class=\"dataframe\">\n",
       "  <thead>\n",
       "    <tr style=\"text-align: right;\">\n",
       "      <th>C02342V02816</th>\n",
       "      <th>-</th>\n",
       "      <th>06</th>\n",
       "      <th>07</th>\n",
       "      <th>08</th>\n",
       "    </tr>\n",
       "    <tr>\n",
       "      <th>Type of House</th>\n",
       "      <th></th>\n",
       "      <th></th>\n",
       "      <th></th>\n",
       "      <th></th>\n",
       "    </tr>\n",
       "  </thead>\n",
       "  <tbody>\n",
       "    <tr>\n",
       "      <th>All house types</th>\n",
       "      <td>340248</td>\n",
       "      <td>0</td>\n",
       "      <td>0</td>\n",
       "      <td>0</td>\n",
       "    </tr>\n",
       "    <tr>\n",
       "      <th>Apartment</th>\n",
       "      <td>0</td>\n",
       "      <td>0</td>\n",
       "      <td>0</td>\n",
       "      <td>65615</td>\n",
       "    </tr>\n",
       "    <tr>\n",
       "      <th>Scheme house</th>\n",
       "      <td>0</td>\n",
       "      <td>0</td>\n",
       "      <td>171317</td>\n",
       "      <td>0</td>\n",
       "    </tr>\n",
       "    <tr>\n",
       "      <th>Single house</th>\n",
       "      <td>0</td>\n",
       "      <td>103321</td>\n",
       "      <td>0</td>\n",
       "      <td>0</td>\n",
       "    </tr>\n",
       "  </tbody>\n",
       "</table>\n",
       "</div>"
      ],
      "text/plain": [
       "C02342V02816          -      06      07     08\n",
       "Type of House                                 \n",
       "All house types  340248       0       0      0\n",
       "Apartment             0       0       0  65615\n",
       "Scheme house          0       0  171317      0\n",
       "Single house          0  103321       0      0"
      ]
     },
     "execution_count": 33,
     "metadata": {},
     "output_type": "execute_result"
    }
   ],
   "source": [
    "ie_ndq1.pivot_table(index='Type of House',  columns='C02342V02816', values='VALUE', aggfunc='sum', fill_value=0)"
   ]
  }
 ],
 "metadata": {
  "kernelspec": {
   "display_name": "Python 3 (ipykernel)",
   "language": "python",
   "name": "python3"
  },
  "language_info": {
   "codemirror_mode": {
    "name": "ipython",
    "version": 3
   },
   "file_extension": ".py",
   "mimetype": "text/x-python",
   "name": "python",
   "nbconvert_exporter": "python",
   "pygments_lexer": "ipython3",
   "version": "3.9.16"
  }
 },
 "nbformat": 4,
 "nbformat_minor": 5
}
