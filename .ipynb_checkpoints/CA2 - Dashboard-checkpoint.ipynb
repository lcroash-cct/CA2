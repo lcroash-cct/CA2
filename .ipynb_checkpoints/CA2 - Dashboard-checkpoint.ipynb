{
 "cells": [
  {
   "cell_type": "code",
   "execution_count": null,
   "id": "f95560bc",
   "metadata": {},
   "outputs": [
    {
     "name": "stdout",
     "output_type": "stream",
     "text": [
      "Dash is running on http://127.0.0.1:8050/\n",
      "\n",
      " * Serving Flask app '__main__'\n",
      " * Debug mode: off\n"
     ]
    },
    {
     "name": "stderr",
     "output_type": "stream",
     "text": [
      "WARNING: This is a development server. Do not use it in a production deployment. Use a production WSGI server instead.\n",
      " * Running on http://127.0.0.1:8050\n",
      "Press CTRL+C to quit\n",
      "127.0.0.1 - - [25/May/2023 18:21:49] \"GET / HTTP/1.1\" 200 -\n",
      "127.0.0.1 - - [25/May/2023 18:21:49] \"GET /_dash-layout HTTP/1.1\" 200 -\n",
      "127.0.0.1 - - [25/May/2023 18:21:49] \"GET /_dash-dependencies HTTP/1.1\" 200 -\n",
      "127.0.0.1 - - [25/May/2023 18:21:49] \"GET /_dash-component-suites/dash/dcc/async-graph.js HTTP/1.1\" 304 -\n",
      "127.0.0.1 - - [25/May/2023 18:21:49] \"GET /_dash-component-suites/dash/dcc/async-slider.js HTTP/1.1\" 304 -\n",
      "127.0.0.1 - - [25/May/2023 18:21:49] \"GET /_dash-component-suites/dash/dcc/async-plotlyjs.js HTTP/1.1\" 304 -\n",
      "127.0.0.1 - - [25/May/2023 18:21:49] \"GET /_dash-component-suites/dash/dcc/async-dropdown.js HTTP/1.1\" 304 -\n",
      "127.0.0.1 - - [25/May/2023 18:21:49] \"POST /_dash-update-component HTTP/1.1\" 200 -\n",
      "127.0.0.1 - - [25/May/2023 18:21:51] \"POST /_dash-update-component HTTP/1.1\" 200 -\n",
      "127.0.0.1 - - [25/May/2023 18:21:53] \"POST /_dash-update-component HTTP/1.1\" 200 -\n",
      "127.0.0.1 - - [25/May/2023 18:21:54] \"POST /_dash-update-component HTTP/1.1\" 200 -\n"
     ]
    }
   ],
   "source": [
    "import dash\n",
    "import dash_core_components as dcc\n",
    "import dash_html_components as html\n",
    "from dash.dependencies import Output, Input\n",
    "import plotly.graph_objects as go\n",
    "import pandas as pd\n",
    "\n",
    "# Prepare the data\n",
    "county_data = pd.read_csv(\"./datasets/dashboard/build_data.csv\", index_col=0)\n",
    "county_data['Quarter'] = pd.to_datetime(county_data['Quarter'])\n",
    "county_data.set_index('Quarter', inplace=True, drop=True)\n",
    "county_data\n",
    "\n",
    "country_data = pd.read_csv(\"./datasets/dashboard/pop_data.csv\", index_col=0)\n",
    "country_data['yr_qtr'] = pd.to_datetime(country_data['yr_qtr'])\n",
    "country_data.set_index('yr_qtr', inplace=True, drop=True)\n",
    "country_data = country_data.drop(['year', 'quarter', 'ie_builds_per_10k',\n",
    "                                 'england_builds_per_10k', 'scotland_builds_per_10k',\n",
    "                                 'wales_builds_per_10k', 'ni_builds_per_10k'], axis=1)\n",
    "\n",
    "dropdown_options = [{'label': col, 'value': col} for col in country_data.columns]\n",
    "\n",
    "app = dash.Dash(__name__)\n",
    "\n",
    "app.layout = html.Div([\n",
    "    dcc.Graph(id='forecast-plot'),\n",
    "    dcc.Slider(\n",
    "        id='arima-slider',\n",
    "        min=1,\n",
    "        max=10,\n",
    "        step=1,\n",
    "        value=5,\n",
    "        marks={i: str(i) for i in range(1, 11)}\n",
    "    ),\n",
    "    dcc.Slider(\n",
    "        id='training-size-slider',\n",
    "        min=0.5,\n",
    "        max=1.0,\n",
    "        step=0.05,\n",
    "        value=0.9,\n",
    "        marks={i/10: str(i/1) for i in range(1, 11)}\n",
    "    ),\n",
    "    \n",
    "    html.Label('Forecast Type'),\n",
    "    dcc.Dropdown(\n",
    "        id='data-dropdown',\n",
    "        options=[{'label': 'Population', 'value': 'population'},\n",
    "                {'label': 'New Builds', 'value': 'new_builds'}],                 \n",
    "        value='New Builds'\n",
    "    ),\n",
    " \n",
    "    html.Label('County'),\n",
    "    dcc.Dropdown(\n",
    "    id='county-dropdown',\n",
    "        options=dropdown_options,\n",
    "        value=dropdown_options[0]['value']  # Set the initial value to the first option's value\n",
    "    )\n",
    "])   \n",
    "\n",
    "\n",
    "@app.callback(\n",
    "    Output('forecast-plot', 'figure'),\n",
    "    Output('county-dropdown', 'options'),\n",
    "    Output('county-dropdown', 'value'),\n",
    "    Input('arima-slider', 'value'),\n",
    "    Input('training-size-slider', 'value'),\n",
    "    Input('county-dropdown', 'value'),\n",
    "    Input('data-dropdown', 'value')\n",
    ")\n",
    "\n",
    "\n",
    "def update_forecast_plot(arima_value, train_size_value, county_value, data_value):\n",
    "    # Perform ARIMA-based forecasting and obtain the forecasted values based on the selected value\n",
    "    # ...\n",
    "    # Replace this with your ARIMA forecasting logic\n",
    "\n",
    "    global dropdown_options\n",
    "\n",
    "    if data_value == 'population':\n",
    "        dropdown_options = [{'label': col, 'value': col} for col in country_data.columns]\n",
    "#         ts = country_data[county_value]\n",
    "\n",
    "    elif data_value == 'new_builds':\n",
    "        dropdown_options = [{'label': col, 'value': col} for col in county_data.columns]\n",
    "#         ts = county_data[county_value]\n",
    "\n",
    "#     begin_arima_workflow(ts, train_size_pct, steps=12)    \n",
    "    \n",
    "        \n",
    "    # Create the line plot using Plotly Express\n",
    "    fig = go.Figure()\n",
    "    # Add your plot traces and layout configuration here\n",
    "\n",
    "    # Return the updated figure and county options and value\n",
    "    return fig, dropdown_options, dropdown_options[0]['value']\n",
    "\n",
    "if __name__ == '__main__':\n",
    "    app.run_server(debug=False)\n"
   ]
  }
 ],
 "metadata": {
  "kernelspec": {
   "display_name": "Python 3 (ipykernel)",
   "language": "python",
   "name": "python3"
  },
  "language_info": {
   "codemirror_mode": {
    "name": "ipython",
    "version": 3
   },
   "file_extension": ".py",
   "mimetype": "text/x-python",
   "name": "python",
   "nbconvert_exporter": "python",
   "pygments_lexer": "ipython3",
   "version": "3.10.7"
  },
  "varInspector": {
   "cols": {
    "lenName": 16,
    "lenType": 16,
    "lenVar": 40
   },
   "kernels_config": {
    "python": {
     "delete_cmd_postfix": "",
     "delete_cmd_prefix": "del ",
     "library": "var_list.py",
     "varRefreshCmd": "print(var_dic_list())"
    },
    "r": {
     "delete_cmd_postfix": ") ",
     "delete_cmd_prefix": "rm(",
     "library": "var_list.r",
     "varRefreshCmd": "cat(var_dic_list()) "
    }
   },
   "types_to_exclude": [
    "module",
    "function",
    "builtin_function_or_method",
    "instance",
    "_Feature"
   ],
   "window_display": false
  }
 },
 "nbformat": 4,
 "nbformat_minor": 5
}
